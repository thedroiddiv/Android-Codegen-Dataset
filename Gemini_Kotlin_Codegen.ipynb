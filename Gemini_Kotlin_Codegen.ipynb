{
  "cells": [
    {
      "cell_type": "code",
      "execution_count": 89,
      "metadata": {
        "id": "TLsKKfncgeAM"
      },
      "outputs": [
        {
          "name": "stdout",
          "output_type": "stream",
          "text": [
            "Requirement already satisfied: google-generativeai in /home/div/miniconda3/envs/android-codegen/lib/python3.11/site-packages (0.8.3)\n",
            "Requirement already satisfied: pandas in /home/div/miniconda3/envs/android-codegen/lib/python3.11/site-packages (2.2.3)\n",
            "Requirement already satisfied: openpyxl in /home/div/miniconda3/envs/android-codegen/lib/python3.11/site-packages (3.1.5)\n",
            "Requirement already satisfied: google-ai-generativelanguage==0.6.10 in /home/div/miniconda3/envs/android-codegen/lib/python3.11/site-packages (from google-generativeai) (0.6.10)\n",
            "Requirement already satisfied: google-api-core in /home/div/miniconda3/envs/android-codegen/lib/python3.11/site-packages (from google-generativeai) (2.21.0)\n",
            "Requirement already satisfied: google-api-python-client in /home/div/miniconda3/envs/android-codegen/lib/python3.11/site-packages (from google-generativeai) (2.149.0)\n",
            "Requirement already satisfied: google-auth>=2.15.0 in /home/div/miniconda3/envs/android-codegen/lib/python3.11/site-packages (from google-generativeai) (2.35.0)\n",
            "Requirement already satisfied: protobuf in /home/div/miniconda3/envs/android-codegen/lib/python3.11/site-packages (from google-generativeai) (5.28.2)\n",
            "Requirement already satisfied: pydantic in /home/div/miniconda3/envs/android-codegen/lib/python3.11/site-packages (from google-generativeai) (2.9.2)\n",
            "Requirement already satisfied: tqdm in /home/div/miniconda3/envs/android-codegen/lib/python3.11/site-packages (from google-generativeai) (4.66.5)\n",
            "Requirement already satisfied: typing-extensions in /home/div/miniconda3/envs/android-codegen/lib/python3.11/site-packages (from google-generativeai) (4.12.2)\n",
            "Requirement already satisfied: proto-plus<2.0.0dev,>=1.22.3 in /home/div/miniconda3/envs/android-codegen/lib/python3.11/site-packages (from google-ai-generativelanguage==0.6.10->google-generativeai) (1.24.0)\n",
            "Requirement already satisfied: numpy>=1.23.2 in /home/div/miniconda3/envs/android-codegen/lib/python3.11/site-packages (from pandas) (2.1.2)\n",
            "Requirement already satisfied: python-dateutil>=2.8.2 in /home/div/miniconda3/envs/android-codegen/lib/python3.11/site-packages (from pandas) (2.9.0)\n",
            "Requirement already satisfied: pytz>=2020.1 in /home/div/miniconda3/envs/android-codegen/lib/python3.11/site-packages (from pandas) (2024.2)\n",
            "Requirement already satisfied: tzdata>=2022.7 in /home/div/miniconda3/envs/android-codegen/lib/python3.11/site-packages (from pandas) (2024.2)\n",
            "Requirement already satisfied: et-xmlfile in /home/div/miniconda3/envs/android-codegen/lib/python3.11/site-packages (from openpyxl) (1.1.0)\n",
            "Requirement already satisfied: googleapis-common-protos<2.0.dev0,>=1.56.2 in /home/div/miniconda3/envs/android-codegen/lib/python3.11/site-packages (from google-api-core->google-generativeai) (1.65.0)\n",
            "Requirement already satisfied: requests<3.0.0.dev0,>=2.18.0 in /home/div/miniconda3/envs/android-codegen/lib/python3.11/site-packages (from google-api-core->google-generativeai) (2.32.3)\n",
            "Requirement already satisfied: cachetools<6.0,>=2.0.0 in /home/div/miniconda3/envs/android-codegen/lib/python3.11/site-packages (from google-auth>=2.15.0->google-generativeai) (5.5.0)\n",
            "Requirement already satisfied: pyasn1-modules>=0.2.1 in /home/div/miniconda3/envs/android-codegen/lib/python3.11/site-packages (from google-auth>=2.15.0->google-generativeai) (0.4.1)\n",
            "Requirement already satisfied: rsa<5,>=3.1.4 in /home/div/miniconda3/envs/android-codegen/lib/python3.11/site-packages (from google-auth>=2.15.0->google-generativeai) (4.9)\n",
            "Requirement already satisfied: six>=1.5 in /home/div/miniconda3/envs/android-codegen/lib/python3.11/site-packages (from python-dateutil>=2.8.2->pandas) (1.16.0)\n",
            "Requirement already satisfied: httplib2<1.dev0,>=0.19.0 in /home/div/miniconda3/envs/android-codegen/lib/python3.11/site-packages (from google-api-python-client->google-generativeai) (0.22.0)\n",
            "Requirement already satisfied: google-auth-httplib2<1.0.0,>=0.2.0 in /home/div/miniconda3/envs/android-codegen/lib/python3.11/site-packages (from google-api-python-client->google-generativeai) (0.2.0)\n",
            "Requirement already satisfied: uritemplate<5,>=3.0.1 in /home/div/miniconda3/envs/android-codegen/lib/python3.11/site-packages (from google-api-python-client->google-generativeai) (4.1.1)\n",
            "Requirement already satisfied: annotated-types>=0.6.0 in /home/div/miniconda3/envs/android-codegen/lib/python3.11/site-packages (from pydantic->google-generativeai) (0.7.0)\n",
            "Requirement already satisfied: pydantic-core==2.23.4 in /home/div/miniconda3/envs/android-codegen/lib/python3.11/site-packages (from pydantic->google-generativeai) (2.23.4)\n",
            "Requirement already satisfied: grpcio<2.0dev,>=1.33.2 in /home/div/miniconda3/envs/android-codegen/lib/python3.11/site-packages (from google-api-core[grpc]!=2.0.*,!=2.1.*,!=2.10.*,!=2.2.*,!=2.3.*,!=2.4.*,!=2.5.*,!=2.6.*,!=2.7.*,!=2.8.*,!=2.9.*,<3.0.0dev,>=1.34.1->google-ai-generativelanguage==0.6.10->google-generativeai) (1.67.0)\n",
            "Requirement already satisfied: grpcio-status<2.0.dev0,>=1.33.2 in /home/div/miniconda3/envs/android-codegen/lib/python3.11/site-packages (from google-api-core[grpc]!=2.0.*,!=2.1.*,!=2.10.*,!=2.2.*,!=2.3.*,!=2.4.*,!=2.5.*,!=2.6.*,!=2.7.*,!=2.8.*,!=2.9.*,<3.0.0dev,>=1.34.1->google-ai-generativelanguage==0.6.10->google-generativeai) (1.67.0)\n",
            "Requirement already satisfied: pyparsing!=3.0.0,!=3.0.1,!=3.0.2,!=3.0.3,<4,>=2.4.2 in /home/div/miniconda3/envs/android-codegen/lib/python3.11/site-packages (from httplib2<1.dev0,>=0.19.0->google-api-python-client->google-generativeai) (3.2.0)\n",
            "Requirement already satisfied: pyasn1<0.7.0,>=0.4.6 in /home/div/miniconda3/envs/android-codegen/lib/python3.11/site-packages (from pyasn1-modules>=0.2.1->google-auth>=2.15.0->google-generativeai) (0.6.1)\n",
            "Requirement already satisfied: charset-normalizer<4,>=2 in /home/div/miniconda3/envs/android-codegen/lib/python3.11/site-packages (from requests<3.0.0.dev0,>=2.18.0->google-api-core->google-generativeai) (3.4.0)\n",
            "Requirement already satisfied: idna<4,>=2.5 in /home/div/miniconda3/envs/android-codegen/lib/python3.11/site-packages (from requests<3.0.0.dev0,>=2.18.0->google-api-core->google-generativeai) (3.10)\n",
            "Requirement already satisfied: urllib3<3,>=1.21.1 in /home/div/miniconda3/envs/android-codegen/lib/python3.11/site-packages (from requests<3.0.0.dev0,>=2.18.0->google-api-core->google-generativeai) (2.2.3)\n",
            "Requirement already satisfied: certifi>=2017.4.17 in /home/div/miniconda3/envs/android-codegen/lib/python3.11/site-packages (from requests<3.0.0.dev0,>=2.18.0->google-api-core->google-generativeai) (2024.8.30)\n"
          ]
        }
      ],
      "source": [
        "! pip install google-generativeai pandas openpyxl"
      ]
    },
    {
      "cell_type": "code",
      "execution_count": 90,
      "metadata": {
        "colab": {
          "base_uri": "https://localhost:8080/",
          "height": 341
        },
        "id": "Cffm_WwYfzRi",
        "outputId": "3ab291ff-8d69-4545-841a-ebc5f6c2104b"
      },
      "outputs": [],
      "source": [
        "import google.generativeai as genai\n",
        "GOOGLE_API_KEY=''\n",
        "genai.configure(api_key=GOOGLE_API_KEY)"
      ]
    },
    {
      "cell_type": "code",
      "execution_count": 91,
      "metadata": {
        "id": "ysk0aMhahG6t"
      },
      "outputs": [],
      "source": [
        "user_seed = \"\"\"\n",
        "I will give you an Android Code in Kotlin. Generate the description of code in this  format. Just give me the description, don't include code in the response. Give the response in javadoc code format.\n",
        "\n",
        "*Example Description and Code: *\n",
        "\n",
        "**Description**\n",
        "\n",
        " * The AirLevel class represents the air quality level as a string value, allowing for\n",
        " * easy categorization and interpretation of air quality data within the application.\n",
        " *\n",
        " * @package com.wjx.android.weather.common.util\n",
        " * - This package contains utility classes and functions related to the weather application,\n",
        " *   including air quality assessments.\n",
        " *\n",
        " * @class AirLevel\n",
        " * - A simple data class that encapsulates the air quality level as a string.\n",
        " *\n",
        " * @property airLevel: String\n",
        " * - The string representation of the air quality level, which can be used to convey\n",
        " *   information to users.\n",
        " *\n",
        " * @function getAirLevel(airLevel: Double): AirLevel\n",
        " * - This function takes a numerical air quality index (AQI) value as input and returns\n",
        " *   an instance of AirLevel based on the given AQI. The function categorizes air quality\n",
        " *   into different levels:\n",
        " *\n",
        " *   - 0.0 to 50.0: Good\n",
        " *   - 50.0 to 100.0: Moderate\n",
        " *   - 100.0 to 150.0: Unhealthy for Sensitive Groups\n",
        " *   - 150.0 to 200.0: Unhealthy\n",
        " *   - Above 200.0: Very Unhealthy\n",
        " *\n",
        " * The getAirLevel function provides a straightforward way to classify and represent\n",
        " * air quality levels, enhancing the application's ability to communicate environmental\n",
        " * conditions to users.\n",
        " */\n",
        "\n",
        "\n",
        "\n",
        "\n",
        "**Code: **\n",
        "package com.wjx.android.weather.common.util\n",
        "\n",
        "/**\n",
        " * Created with Android Studio.\n",
        " * Description:\n",
        " * @author: Wangjianxian\n",
        " * @CreateDate: 2020/6/16 22:30\n",
        " */\n",
        "class AirLevel(val airLevel: String)\n",
        "\n",
        "fun getAirLevel(airLevel: Double): AirLevel {\n",
        "    if (airLevel in 0.0..50.0) {\n",
        "        return AirLevel(\"\"���\"\")\n",
        "    }\n",
        "    if (airLevel in 50.0..100.0) {\n",
        "        return AirLevel(\"\"���\"\")\n",
        "    }\n",
        "    if (airLevel in 100.0..150.0) {\n",
        "        return AirLevel(\"\"������������\"\")\n",
        "    }\n",
        "    if (airLevel in 150.0..200.0) {\n",
        "        return AirLevel(\"\"������������\"\")\n",
        "    }\n",
        "    return AirLevel(\"\"������������\"\")\n",
        "}\n",
        "\"\n",
        "\n",
        "\"\"\"\n",
        "\n",
        "model_seed = \"\"\"\n",
        "/**\n",
        " * The AirLevel class represents the air quality level as a string value, allowing for\n",
        " * easy categorization and interpretation of air quality data within the application.\n",
        " *\n",
        " * @package com.wjx.android.weather.common.util\n",
        " * - This package contains utility classes and functions related to the weather application,\n",
        " *   including air quality assessments.\n",
        " *\n",
        " * @class AirLevel\n",
        " * - A simple data class that encapsulates the air quality level as a string.\n",
        " *\n",
        " * @property airLevel: String\n",
        " * - The string representation of the air quality level, which can be used to convey\n",
        " *   information to users.\n",
        " *\n",
        " * @function getAirLevel(airLevel: Double): AirLevel\n",
        " * - This function takes a numerical air quality index (AQI) value as input and returns\n",
        " *   an instance of AirLevel based on the given AQI. The function categorizes air quality\n",
        " *   into different levels:\n",
        " *\n",
        " *   - 0.0 to 50.0: Good\n",
        " *   - 50.0 to 100.0: Moderate\n",
        " *   - 100.0 to 150.0: Unhealthy for Sensitive Groups\n",
        " *   - 150.0 to 200.0: Unhealthy\n",
        " *   - Above 200.0: Very Unhealthy\n",
        " *\n",
        " * The getAirLevel function provides a straightforward way to classify and represent\n",
        " * air quality levels, enhancing the application's ability to communicate environmental\n",
        " * conditions to users.\n",
        " */\n",
        "content_copy\n",
        "Use code with caution.\n",
        "Java\n",
        "\"\"\""
      ]
    },
    {
      "cell_type": "code",
      "execution_count": 92,
      "metadata": {
        "id": "DZj2MSW4gZ-U"
      },
      "outputs": [],
      "source": [
        "model = genai.GenerativeModel(\"gemini-1.5-flash\")\n",
        "chat = model.start_chat(\n",
        "    history=[\n",
        "        {\"role\": \"user\", \"parts\": user_seed},\n",
        "        {\"role\": \"model\", \"parts\": model_seed},\n",
        "    ]\n",
        ")"
      ]
    },
    {
      "cell_type": "code",
      "execution_count": 93,
      "metadata": {
        "id": "9bXvUlVthp3h"
      },
      "outputs": [
        {
          "name": "stdout",
          "output_type": "stream",
          "text": [
            "/**\n",
            " * This utility class provides common functions and helper methods used throughout the\n",
            " * weather application. It offers functionalities for displaying toasts, retrieving\n",
            " * class types, accessing color resources, and determining if a weather condition\n",
            " * corresponds to a nighttime scenario.\n",
            " *\n",
            " * @package com.wjx.android.weather.common.util\n",
            " * - This package contains utility classes and functions related to the weather application,\n",
            " *   including common helper methods.\n",
            " *\n",
            " * @class CommonUtil\n",
            " * - A utility object containing static helper methods for various common tasks within\n",
            " *   the weather application.\n",
            " *\n",
            " * @function showToast(context: Context, string: String)\n",
            " * - Displays a short-duration toast message on the specified context with the given string.\n",
            " *\n",
            " * @function getClass(t: Any): Class&lt;T&gt;\n",
            " * - Retrieves the generic type parameter class (T) associated with the given instance.\n",
            " * - This method utilizes reflection to inspect the generic type information of the input object's\n",
            " *   superclass.\n",
            " *\n",
            " * @function getColor(context: Context, color: Int): Int\n",
            " * - Returns the color resource specified by the given color ID, ensuring compatibility with\n",
            " *   different themes and color modes.\n",
            " *\n",
            " * @function getNightString(skycon : String) : Boolean\n",
            " * - Checks if the given sky condition string contains the word \"night\" (case-insensitive),\n",
            " *   indicating whether the weather condition is associated with nighttime.\n",
            " */\n",
            "\n"
          ]
        }
      ],
      "source": [
        "new_chat = \"\"\"\n",
        "\"package com.wjx.android.weather.common.util\n",
        "\n",
        "import android.content.Context\n",
        "import android.content.Intent\n",
        "import android.widget.Toast\n",
        "import androidx.core.content.ContextCompat\n",
        "import androidx.core.content.ContextCompat.startActivity\n",
        "import com.wjx.android.weather.R\n",
        "import java.lang.reflect.ParameterizedType\n",
        "\n",
        "/**\n",
        " * Created with Android Studio.\n",
        " * Description:\n",
        " * @author: Wangjianxian\n",
        " * @CreateDate: 2020/6/3 22:45\n",
        " */\n",
        "object CommonUtil {\n",
        "    fun showToast(context: Context, string: String) {\n",
        "        Toast.makeText(context, string, Toast.LENGTH_SHORT).show()\n",
        "    }\n",
        "\n",
        "    fun <T> getClass(t: Any): Class<T> {\n",
        "        // ������������ ������������������ (T) ������ Class���\n",
        "        return (t.javaClass.genericSuperclass as ParameterizedType)\n",
        "            .actualTypeArguments[0]\n",
        "                as Class<T>\n",
        "    }\n",
        "\n",
        "    fun getColor(context: Context, color: Int): Int {\n",
        "        return ContextCompat.getColor(context, color)\n",
        "    }\n",
        "\n",
        "    fun getNightString(skycon : String) : Boolean {\n",
        "        return skycon.contains(\"\"night\"\", ignoreCase = true)\n",
        "    }\n",
        "}\"\n",
        "\"\"\"\n",
        "\n",
        "response = chat.send_message(new_chat)\n",
        "print(response.text)"
      ]
    },
    {
      "cell_type": "code",
      "execution_count": 94,
      "metadata": {
        "id": "FelsDBpRjKTK"
      },
      "outputs": [],
      "source": [
        "import pandas as pd"
      ]
    },
    {
      "cell_type": "code",
      "execution_count": 95,
      "metadata": {
        "id": "ZD8zfhRIjSDw"
      },
      "outputs": [],
      "source": [
        "input_file = \"kotlin_files.xlsx\"\n",
        "output_file = \"kotlin_files_updated.xlsx\""
      ]
    },
    {
      "cell_type": "code",
      "execution_count": 96,
      "metadata": {
        "id": "tS9GMhudjNaf"
      },
      "outputs": [],
      "source": [
        "dataset = pd.read_excel(output_file, dtype=str, keep_default_na=False)\n",
        "output_dataframes = pd.read_excel(output_file, dtype=str, keep_default_na=False)"
      ]
    },
    {
      "cell_type": "code",
      "execution_count": 97,
      "metadata": {
        "id": "_RhLaMx6oOf2"
      },
      "outputs": [],
      "source": [
        "generation_rows_range = range(427, 600)"
      ]
    },
    {
      "cell_type": "code",
      "execution_count": 98,
      "metadata": {
        "colab": {
          "base_uri": "https://localhost:8080/",
          "height": 1000
        },
        "id": "lzMIJrmPjpvH",
        "outputId": "2c4adc5e-a6a9-470e-f3ec-1ab06841d224"
      },
      "outputs": [
        {
          "name": "stdout",
          "output_type": "stream",
          "text": [
            "Generated problem for index:  487\n",
            "Generated problem for index:  488\n",
            "Generated problem for index:  489\n",
            "Generated problem for index:  490\n",
            "Generated problem for index:  491\n",
            "Generated problem for index:  492\n",
            "Generated problem for index:  493\n",
            "Generated problem for index:  494\n",
            "Generated problem for index:  495\n",
            "Generated problem for index:  496\n",
            "Generated problem for index:  497\n",
            "Generated problem for index:  498\n",
            "Generated problem for index:  499\n",
            "Generated problem for index:  500\n",
            "Generated problem for index:  501\n",
            "Generated problem for index:  502\n",
            "Generated problem for index:  503\n",
            "Generated problem for index:  504\n",
            "Generated problem for index:  505\n",
            "Generated problem for index:  506\n",
            "Generated problem for index:  507\n",
            "Generated problem for index:  508\n",
            "Generated problem for index:  509\n",
            "Generated problem for index:  510\n",
            "Generated problem for index:  511\n",
            "Generated problem for index:  512\n",
            "Generated problem for index:  513\n",
            "Generated problem for index:  514\n",
            "Generated problem for index:  515\n",
            "Generated problem for index:  516\n",
            "Generated problem for index:  517\n",
            "Generated problem for index:  518\n",
            "Generated problem for index:  519\n",
            "Generated problem for index:  520\n",
            "Generated problem for index:  521\n",
            "429 Resource has been exhausted (e.g. check quota).\n"
          ]
        }
      ],
      "source": [
        "for index, row in dataset.iterrows():\n",
        "  try:\n",
        "    file_path = row['FILE_PATH']\n",
        "    problem = row['problem']\n",
        "    solution = row['solution']\n",
        "    if index in generation_rows_range:\n",
        "      if problem == \"\":\n",
        "        # get the problem using gemini API\n",
        "        response = chat.send_message(solution)\n",
        "        problem = response.text\n",
        "        print(\"Generated problem for index: \", index)\n",
        "    output_dataframes.loc[index, 'FILE_PATH'] = file_path\n",
        "    output_dataframes.loc[index, 'problem'] = problem\n",
        "    output_dataframes.loc[index, 'solution'] = solution\n",
        "  except Exception as e:\n",
        "    print(e)\n",
        "    break\n",
        "\n",
        "output_dataframes.to_excel(output_file, index=False)"
      ]
    },
    {
      "cell_type": "code",
      "execution_count": 38,
      "metadata": {},
      "outputs": [],
      "source": []
    }
  ],
  "metadata": {
    "colab": {
      "provenance": []
    },
    "kernelspec": {
      "display_name": "android-codegen",
      "language": "python",
      "name": "python3"
    },
    "language_info": {
      "codemirror_mode": {
        "name": "ipython",
        "version": 3
      },
      "file_extension": ".py",
      "mimetype": "text/x-python",
      "name": "python",
      "nbconvert_exporter": "python",
      "pygments_lexer": "ipython3",
      "version": "3.11.9"
    }
  },
  "nbformat": 4,
  "nbformat_minor": 0
}
